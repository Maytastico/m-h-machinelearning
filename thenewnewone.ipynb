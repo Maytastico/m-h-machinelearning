{
 "cells": [
  {
   "cell_type": "code",
   "id": "initial_id",
   "metadata": {
    "collapsed": true,
    "ExecuteTime": {
     "end_time": "2025-08-04T08:02:46.272662Z",
     "start_time": "2025-08-04T08:02:46.269342Z"
    }
   },
   "source": [
    "### Bibliotheken importieren\n",
    "import pandas as pd\n",
    "from sklearn.model_selection import train_test_split\n",
    "from sklearn.preprocessing import StandardScaler, OneHotEncoder\n",
    "from sklearn.compose import ColumnTransformer\n",
    "from sklearn.neighbors import KNeighborsClassifier\n",
    "from sklearn.linear_model import LogisticRegression\n",
    "from sklearn.ensemble import RandomForestClassifier, BaggingClassifier, GradientBoostingClassifier\n",
    "from sklearn.tree import DecisionTreeClassifier\n",
    "from sklearn.metrics import accuracy_score, classification_report, confusion_matrix\n",
    "import seaborn as sns\n",
    "import matplotlib.pyplot as plt"
   ],
   "outputs": [],
   "execution_count": 7
  },
  {
   "metadata": {
    "ExecuteTime": {
     "end_time": "2025-08-04T08:02:46.423511Z",
     "start_time": "2025-08-04T08:02:46.316883Z"
    }
   },
   "cell_type": "code",
   "source": [
    "df = pd.read_csv('./windmill_data.csv')\n",
    "df = df.sort_values(\"timestamp\")"
   ],
   "id": "a7acd87bd859d1a",
   "outputs": [],
   "execution_count": 8
  },
  {
   "metadata": {},
   "cell_type": "markdown",
   "source": "# Test Train Split",
   "id": "4b81e908aa5cd894"
  },
  {
   "metadata": {
    "ExecuteTime": {
     "end_time": "2025-08-04T08:02:46.448441Z",
     "start_time": "2025-08-04T08:02:46.445160Z"
    }
   },
   "cell_type": "code",
   "source": [
    "split_idx = int(len(df) * 0.8)\n",
    "train_data = df.iloc[:split_idx]\n",
    "test_data = df.iloc[split_idx:]"
   ],
   "id": "517bf3dc2003f08",
   "outputs": [],
   "execution_count": 9
  },
  {
   "metadata": {},
   "cell_type": "markdown",
   "source": "# Datenbereinigung",
   "id": "898a89472fb38bb1"
  },
  {
   "metadata": {
    "ExecuteTime": {
     "end_time": "2025-08-04T08:02:46.529368Z",
     "start_time": "2025-08-04T08:02:46.511251Z"
    }
   },
   "cell_type": "code",
   "source": [
    "# unnötige Spalten entfernen\n",
    "X = df.drop(['failure_risk_30d', 'days_since_maintenance', 'turbine_id'], axis=1)\n",
    "# Zielvariable definieren\n",
    "y = df['failure_risk_30d']\n",
    "\n",
    "# Separate features and target for training and testing sets\n",
    "X_train = train_data.drop(['failure_risk_30d', 'days_since_maintenance', 'turbine_id'], axis=1)\n",
    "y_train = train_data['failure_risk_30d']\n",
    "\n",
    "X_test = test_data.drop(['failure_risk_30d', 'days_since_maintenance', 'turbine_id'], axis=1)\n",
    "y_test = test_data['failure_risk_30d']\n",
    "\n",
    "X_train= X_train.dropna(subset=['vibration_mm_s', 'temperature_c'])\n",
    "y_train = y_train.loc[X_train.index]\n",
    "X_test = X_test.dropna(subset=['vibration_mm_s', 'temperature_c'])\n",
    "y_test = y_test.loc[X_test.index]"
   ],
   "id": "2df8024ae82af05d",
   "outputs": [],
   "execution_count": 10
  },
  {
   "metadata": {},
   "cell_type": "markdown",
   "source": "# Encoding",
   "id": "892350f9cc7fb90f"
  },
  {
   "metadata": {
    "ExecuteTime": {
     "end_time": "2025-08-04T08:02:49.142685Z",
     "start_time": "2025-08-04T08:02:46.584670Z"
    }
   },
   "cell_type": "code",
   "source": [
    "from imblearn.over_sampling import SMOTE\n",
    "\n",
    "# encoding\n",
    "numerical_features = X.select_dtypes(include=['float64', 'int64']).columns.tolist()\n",
    "categorical_features = X.select_dtypes(include=['object']).columns.tolist()\n",
    "\n",
    "preprocessor = ColumnTransformer(\n",
    "    transformers=[\n",
    "        ('num', StandardScaler(), numerical_features),\n",
    "        ('cat', OneHotEncoder(handle_unknown='ignore', sparse_output=False), categorical_features)\n",
    "    ]\n",
    ")\n",
    "\n",
    "X_train_processed = preprocessor.fit_transform(X_train)\n",
    "X_test_processed = preprocessor.transform(X_test)\n",
    "\n",
    "# gleichmäßige Aufteilung der Klassen\n",
    "smote = SMOTE(random_state=42)\n",
    "\n",
    "X_train_processed, y_train = smote.fit_resample(X_train_processed, y_train)\n"
   ],
   "id": "dfebcfff82a1b344",
   "outputs": [],
   "execution_count": 11
  },
  {
   "metadata": {},
   "cell_type": "markdown",
   "source": "# TrainTrain 🚂\n",
   "id": "9d2ed0fd13673226"
  },
  {
   "metadata": {
    "ExecuteTime": {
     "end_time": "2025-08-04T08:19:30.024784Z",
     "start_time": "2025-08-04T08:04:24.162724Z"
    }
   },
   "cell_type": "code",
   "source": [
    "## 3. Modelltraining\n",
    "### Logistische Regression\n",
    "lr = LogisticRegression(max_iter=1000, random_state=42)\n",
    "lr.fit(X_train_processed, y_train)\n",
    "y_pred_lr = lr.predict(X_test_processed)\n",
    "### Decision Tree\n",
    "dt = DecisionTreeClassifier(random_state=42)\n",
    "dt.fit(X_train_processed, y_train)\n",
    "y_pred_dt = dt.predict(X_test_processed)\n",
    "### KNN\n",
    "knn = KNeighborsClassifier(n_neighbors=5, metric='euclidean')\n",
    "knn.fit(X_train_processed, y_train)\n",
    "y_pred_knn = knn.predict(X_test_processed)\n",
    "### Random Forest\n",
    "rf = RandomForestClassifier(n_estimators=100, random_state=42)\n",
    "rf.fit(X_train_processed, y_train)\n",
    "y_pred_rf = rf.predict(X_test_processed)\n",
    "## 3.5 Ensemble Learning\n",
    "### Bagging\n",
    "bagging = BaggingClassifier(estimator=dt, random_state=42)\n",
    "bagging.fit(X_train_processed, y_train)\n",
    "y_pred_bag = bagging.predict(X_test_processed)\n",
    "### Gradient Boosting\n",
    "gb = GradientBoostingClassifier(random_state=42)\n",
    "gb.fit(X_train_processed, y_train)\n",
    "y_pred_gradboost = gb.predict(X_test_processed)\n",
    "## 4. Modellbewertung"
   ],
   "id": "ddfc1eabdf3bed23",
   "outputs": [],
   "execution_count": 12
  }
 ],
 "metadata": {
  "kernelspec": {
   "display_name": "Python 3",
   "language": "python",
   "name": "python3"
  },
  "language_info": {
   "codemirror_mode": {
    "name": "ipython",
    "version": 2
   },
   "file_extension": ".py",
   "mimetype": "text/x-python",
   "name": "python",
   "nbconvert_exporter": "python",
   "pygments_lexer": "ipython2",
   "version": "2.7.6"
  }
 },
 "nbformat": 4,
 "nbformat_minor": 5
}
