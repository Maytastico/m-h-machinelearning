{
 "cells": [
  {
   "metadata": {},
   "cell_type": "raw",
   "source": [
    "# Einlesen des Datensatzes\n",
    "-> failure_risk_30d sieht so aus, als hätte diese Spalte nur zwei Werte: 0 und 1.\n",
    "Damit könnte man einen Klassifikationsalgorithmus trainieren.\n",
    "\n",
    "```\n",
    "failure_risk_30d, count\n",
    "0,                52573\n",
    "1,                520\n",
    "```\n",
    "\n",
    "maintenance_team\n",
    "Team_B,19132\n",
    "Team_D,16992\n",
    "Team_A,8488\n",
    "Team_C,8481\n",
    "\n",
    "turbine_type\n",
    "GE 1.5MW,17006\n",
    "Vestas V90,14857\n",
    "Siemens SWT,10626\n",
    "Enercon E-126,10604\n",
    "\n",
    "\n"
   ],
   "id": "fb215195246998e"
  },
  {
   "cell_type": "code",
   "id": "initial_id",
   "metadata": {
    "collapsed": true,
    "ExecuteTime": {
     "end_time": "2025-08-01T15:29:49.827971Z",
     "start_time": "2025-08-01T15:29:49.738218Z"
    }
   },
   "source": [
    "#Hier wird der Datensatz eingelesen und die Anzahl der Einträge pro Turbine ausgegeben.\n",
    "import pandas as pd\n",
    "from sklearn.metrics import classification_report\n",
    "from sklearn.preprocessing import LabelEncoder\n",
    "import os\n",
    "os.environ[\"SCIPY_ARRAY_API\"] = \"1\"\n",
    "dataset = pd.read_csv(\"windmill_data.csv\")\n",
    "dataset[\"turbine_id\"].value_counts()\n"
   ],
   "outputs": [
    {
     "data": {
      "text/plain": [
       "turbine_id\n",
       "T004    2139\n",
       "T007    2135\n",
       "T020    2135\n",
       "T023    2133\n",
       "T013    2132\n",
       "T021    2131\n",
       "T019    2129\n",
       "T015    2129\n",
       "T012    2128\n",
       "T001    2127\n",
       "T009    2127\n",
       "T005    2125\n",
       "T016    2123\n",
       "T008    2122\n",
       "T006    2121\n",
       "T010    2120\n",
       "T018    2119\n",
       "T017    2119\n",
       "T003    2117\n",
       "T022    2117\n",
       "T025    2116\n",
       "T011    2115\n",
       "T002    2114\n",
       "T014    2113\n",
       "T024    2107\n",
       "Name: count, dtype: int64"
      ]
     },
     "execution_count": 54,
     "metadata": {},
     "output_type": "execute_result"
    }
   ],
   "execution_count": 54
  },
  {
   "metadata": {
    "ExecuteTime": {
     "end_time": "2025-08-01T15:29:49.887974Z",
     "start_time": "2025-08-01T15:29:49.876226Z"
    }
   },
   "cell_type": "code",
   "source": [
    "# Hier werden die Lerndaten vorbereitet.\n",
    "# Timestamp wird entfernt, da dieser für die Klassifikation nicht relevant ist und das resultat verfälschen könnte.\n",
    "# Als Dependente Variable wird failure_risk_30d verwendet, da diese angibt, ob ein Fehler in den nächsten 30 Tagen zu erwarten ist.\n",
    "X = dataset.copy()\n",
    "X.drop(\"timestamp\", axis=1, inplace=True)\n",
    "\n",
    "y = X.pop(\"failure_risk_30d\")"
   ],
   "id": "b2ed39ecbdb80a50",
   "outputs": [],
   "execution_count": 55
  },
  {
   "metadata": {},
   "cell_type": "raw",
   "source": "## Labelencoding",
   "id": "653d361946c55a82"
  },
  {
   "metadata": {
    "ExecuteTime": {
     "end_time": "2025-08-01T15:29:49.985785Z",
     "start_time": "2025-08-01T15:29:49.923720Z"
    }
   },
   "cell_type": "code",
   "source": [
    "# Hier werden alle kategorischen Spalten in numerische Werte umgewandelt, um sie für die Modelle nutzbar zu machen.\n",
    "from sklearn.preprocessing import LabelEncoder\n",
    "le_turbine_id = LabelEncoder()\n",
    "X[\"turbine_id\"] = le_turbine_id.fit_transform(X[\"turbine_id\"])\n",
    "le_maintenance_team = LabelEncoder()\n",
    "X[\"maintenance_team\"] = le_maintenance_team.fit_transform(X[\"maintenance_team\"])\n",
    "le_turbine_type = LabelEncoder()\n",
    "X[\"turbine_type\"] = le_turbine_type.fit_transform(X[\"turbine_type\"])\n",
    "le_wind_direction = LabelEncoder()\n",
    "X[\"wind_direction\"] = le_wind_direction.fit_transform(X[\"wind_direction\"])\n",
    "X"
   ],
   "id": "473eb755617cd4ee",
   "outputs": [
    {
     "data": {
      "text/plain": [
       "       turbine_id  turbine_type  maintenance_team  wind_speed_ms  \\\n",
       "0               0             3                 1          11.45   \n",
       "1               0             3                 1          15.11   \n",
       "2               0             3                 1          14.30   \n",
       "3               0             3                 1          15.55   \n",
       "4               0             3                 1          10.88   \n",
       "...           ...           ...               ...            ...   \n",
       "53088          24             3                 2          17.23   \n",
       "53089          24             3                 2          14.67   \n",
       "53090          24             3                 2          10.86   \n",
       "53091          24             3                 2          13.09   \n",
       "53092          24             3                 2          10.12   \n",
       "\n",
       "       wind_direction  power_output_kw  vibration_mm_s  temperature_c  \\\n",
       "0                   5           1562.2           0.750           58.0   \n",
       "1                   7           1800.0           0.774           63.4   \n",
       "2                   6           1800.0           0.885           66.8   \n",
       "3                   7           1800.0           0.005           61.0   \n",
       "4                   7           1340.6           1.248           63.1   \n",
       "...               ...              ...             ...            ...   \n",
       "53088               1           1800.0           1.704           78.7   \n",
       "53089               6           1800.0           2.244           87.3   \n",
       "53090               6           1334.5           1.507           79.9   \n",
       "53091               3           1800.0           1.185           67.2   \n",
       "53092               7           1077.5           1.740           71.8   \n",
       "\n",
       "       hydraulic_pressure_bar  days_since_maintenance  \n",
       "0                       182.3                     106  \n",
       "1                       173.9                     106  \n",
       "2                       186.1                     106  \n",
       "3                       182.4                     106  \n",
       "4                       180.2                     106  \n",
       "...                       ...                     ...  \n",
       "53088                   189.9                      51  \n",
       "53089                   176.2                      51  \n",
       "53090                   165.9                      51  \n",
       "53091                   181.3                      51  \n",
       "53092                   166.4                      51  \n",
       "\n",
       "[53093 rows x 10 columns]"
      ],
      "text/html": [
       "<div>\n",
       "<style scoped>\n",
       "    .dataframe tbody tr th:only-of-type {\n",
       "        vertical-align: middle;\n",
       "    }\n",
       "\n",
       "    .dataframe tbody tr th {\n",
       "        vertical-align: top;\n",
       "    }\n",
       "\n",
       "    .dataframe thead th {\n",
       "        text-align: right;\n",
       "    }\n",
       "</style>\n",
       "<table border=\"1\" class=\"dataframe\">\n",
       "  <thead>\n",
       "    <tr style=\"text-align: right;\">\n",
       "      <th></th>\n",
       "      <th>turbine_id</th>\n",
       "      <th>turbine_type</th>\n",
       "      <th>maintenance_team</th>\n",
       "      <th>wind_speed_ms</th>\n",
       "      <th>wind_direction</th>\n",
       "      <th>power_output_kw</th>\n",
       "      <th>vibration_mm_s</th>\n",
       "      <th>temperature_c</th>\n",
       "      <th>hydraulic_pressure_bar</th>\n",
       "      <th>days_since_maintenance</th>\n",
       "    </tr>\n",
       "  </thead>\n",
       "  <tbody>\n",
       "    <tr>\n",
       "      <th>0</th>\n",
       "      <td>0</td>\n",
       "      <td>3</td>\n",
       "      <td>1</td>\n",
       "      <td>11.45</td>\n",
       "      <td>5</td>\n",
       "      <td>1562.2</td>\n",
       "      <td>0.750</td>\n",
       "      <td>58.0</td>\n",
       "      <td>182.3</td>\n",
       "      <td>106</td>\n",
       "    </tr>\n",
       "    <tr>\n",
       "      <th>1</th>\n",
       "      <td>0</td>\n",
       "      <td>3</td>\n",
       "      <td>1</td>\n",
       "      <td>15.11</td>\n",
       "      <td>7</td>\n",
       "      <td>1800.0</td>\n",
       "      <td>0.774</td>\n",
       "      <td>63.4</td>\n",
       "      <td>173.9</td>\n",
       "      <td>106</td>\n",
       "    </tr>\n",
       "    <tr>\n",
       "      <th>2</th>\n",
       "      <td>0</td>\n",
       "      <td>3</td>\n",
       "      <td>1</td>\n",
       "      <td>14.30</td>\n",
       "      <td>6</td>\n",
       "      <td>1800.0</td>\n",
       "      <td>0.885</td>\n",
       "      <td>66.8</td>\n",
       "      <td>186.1</td>\n",
       "      <td>106</td>\n",
       "    </tr>\n",
       "    <tr>\n",
       "      <th>3</th>\n",
       "      <td>0</td>\n",
       "      <td>3</td>\n",
       "      <td>1</td>\n",
       "      <td>15.55</td>\n",
       "      <td>7</td>\n",
       "      <td>1800.0</td>\n",
       "      <td>0.005</td>\n",
       "      <td>61.0</td>\n",
       "      <td>182.4</td>\n",
       "      <td>106</td>\n",
       "    </tr>\n",
       "    <tr>\n",
       "      <th>4</th>\n",
       "      <td>0</td>\n",
       "      <td>3</td>\n",
       "      <td>1</td>\n",
       "      <td>10.88</td>\n",
       "      <td>7</td>\n",
       "      <td>1340.6</td>\n",
       "      <td>1.248</td>\n",
       "      <td>63.1</td>\n",
       "      <td>180.2</td>\n",
       "      <td>106</td>\n",
       "    </tr>\n",
       "    <tr>\n",
       "      <th>...</th>\n",
       "      <td>...</td>\n",
       "      <td>...</td>\n",
       "      <td>...</td>\n",
       "      <td>...</td>\n",
       "      <td>...</td>\n",
       "      <td>...</td>\n",
       "      <td>...</td>\n",
       "      <td>...</td>\n",
       "      <td>...</td>\n",
       "      <td>...</td>\n",
       "    </tr>\n",
       "    <tr>\n",
       "      <th>53088</th>\n",
       "      <td>24</td>\n",
       "      <td>3</td>\n",
       "      <td>2</td>\n",
       "      <td>17.23</td>\n",
       "      <td>1</td>\n",
       "      <td>1800.0</td>\n",
       "      <td>1.704</td>\n",
       "      <td>78.7</td>\n",
       "      <td>189.9</td>\n",
       "      <td>51</td>\n",
       "    </tr>\n",
       "    <tr>\n",
       "      <th>53089</th>\n",
       "      <td>24</td>\n",
       "      <td>3</td>\n",
       "      <td>2</td>\n",
       "      <td>14.67</td>\n",
       "      <td>6</td>\n",
       "      <td>1800.0</td>\n",
       "      <td>2.244</td>\n",
       "      <td>87.3</td>\n",
       "      <td>176.2</td>\n",
       "      <td>51</td>\n",
       "    </tr>\n",
       "    <tr>\n",
       "      <th>53090</th>\n",
       "      <td>24</td>\n",
       "      <td>3</td>\n",
       "      <td>2</td>\n",
       "      <td>10.86</td>\n",
       "      <td>6</td>\n",
       "      <td>1334.5</td>\n",
       "      <td>1.507</td>\n",
       "      <td>79.9</td>\n",
       "      <td>165.9</td>\n",
       "      <td>51</td>\n",
       "    </tr>\n",
       "    <tr>\n",
       "      <th>53091</th>\n",
       "      <td>24</td>\n",
       "      <td>3</td>\n",
       "      <td>2</td>\n",
       "      <td>13.09</td>\n",
       "      <td>3</td>\n",
       "      <td>1800.0</td>\n",
       "      <td>1.185</td>\n",
       "      <td>67.2</td>\n",
       "      <td>181.3</td>\n",
       "      <td>51</td>\n",
       "    </tr>\n",
       "    <tr>\n",
       "      <th>53092</th>\n",
       "      <td>24</td>\n",
       "      <td>3</td>\n",
       "      <td>2</td>\n",
       "      <td>10.12</td>\n",
       "      <td>7</td>\n",
       "      <td>1077.5</td>\n",
       "      <td>1.740</td>\n",
       "      <td>71.8</td>\n",
       "      <td>166.4</td>\n",
       "      <td>51</td>\n",
       "    </tr>\n",
       "  </tbody>\n",
       "</table>\n",
       "<p>53093 rows × 10 columns</p>\n",
       "</div>"
      ]
     },
     "execution_count": 56,
     "metadata": {},
     "output_type": "execute_result"
    }
   ],
   "execution_count": 56
  },
  {
   "metadata": {
    "ExecuteTime": {
     "end_time": "2025-08-01T15:29:50.201741Z",
     "start_time": "2025-08-01T15:29:50.182152Z"
    }
   },
   "cell_type": "code",
   "source": [
    "# impute\n",
    "\n",
    "# Der Imputer wird verwendet, um fehlende Werte in den Daten zu behandeln.\n",
    "# Sie werden mit dem Durchschnitt der jeweiligen Spalte ersetzt.\n",
    "# Um sicherzustellen, dass der Imputer nur auf numerische Spalten angewendet wird, werden nicht-numerische Spalten ausgeschlossen.\n",
    "from sklearn.impute import SimpleImputer\n",
    "\n",
    "imputer = SimpleImputer(strategy=\"mean\")\n",
    "\n",
    "X = pd.DataFrame(imputer.fit_transform(X), columns=X.columns)"
   ],
   "id": "480d5509b4d0978a",
   "outputs": [],
   "execution_count": 57
  },
  {
   "metadata": {
    "ExecuteTime": {
     "end_time": "2025-08-01T15:29:50.269459Z",
     "start_time": "2025-08-01T15:29:50.266764Z"
    }
   },
   "cell_type": "code",
   "source": "",
   "id": "4dd1257a450ee4c7",
   "outputs": [],
   "execution_count": null
  },
  {
   "metadata": {
    "ExecuteTime": {
     "end_time": "2025-08-01T15:29:50.379176Z",
     "start_time": "2025-08-01T15:29:50.357405Z"
    }
   },
   "cell_type": "code",
   "source": [
    "# Es wurde festgestellt, dass die 0 Klasse viel öfter vorkommt als die 1 Klasse.\n",
    "# Damit die 0 nicht das Bild dominiert, wird ein Undersampling durchgeführt.\n",
    "from imblearn.under_sampling import RandomUnderSampler\n",
    "rus = RandomUnderSampler(random_state=1491)\n",
    "X, y = rus.fit_resample(X, y)"
   ],
   "id": "c4a2b34380cceffc",
   "outputs": [],
   "execution_count": 58
  },
  {
   "metadata": {
    "ExecuteTime": {
     "end_time": "2025-08-01T15:29:50.434905Z",
     "start_time": "2025-08-01T15:29:50.426107Z"
    }
   },
   "cell_type": "code",
   "source": [
    "# Ein Test Train Split wird durchgeführt, um die Daten in Trainings- und Testdaten aufzuteilen.\n",
    "# Mit stratefy wird sichergestellt, dass die Verteilung der Klassen im Trainings- und Testset gleich bleibt.\n",
    "from sklearn.model_selection import train_test_split\n",
    "\n",
    "X_train, X_test, y_train, y_test = train_test_split(X, y, test_size=0.2, random_state=42, stratify=y)\n"
   ],
   "id": "3bdb93e7a2a47769",
   "outputs": [],
   "execution_count": 59
  },
  {
   "metadata": {},
   "cell_type": "markdown",
   "source": "",
   "id": "92b4d34da56460b2"
  },
  {
   "metadata": {},
   "cell_type": "raw",
   "source": "Random Forest",
   "id": "64b2dac2bd5ecf55"
  },
  {
   "metadata": {
    "ExecuteTime": {
     "end_time": "2025-08-01T15:29:50.803911Z",
     "start_time": "2025-08-01T15:29:50.483952Z"
    }
   },
   "cell_type": "code",
   "source": [
    "# Der hier verwendete Algorithmus ist Random Forest, ein Ensemble-Lernverfahren, das mehrere Entscheidungsbäume kombiniert, um die Genauigkeit und Robustheit der Vorhersagen zu verbessern.\n",
    "# Nachteil an diesem ist , dass er schwer zu interpretieren ist, da er aus vielen Bäumen besteht und die Entscheidungsfindung nicht so transparent ist wie bei einem einzelnen Entscheidungsbaum.\n",
    "\n",
    "from sklearn.ensemble import RandomForestClassifier\n",
    "\n",
    "\n",
    "# Train a RandomForestClassifier with fixed random_state\n",
    "model = RandomForestClassifier(random_state=42, class_weight=\"balanced\")\n",
    "model.fit(X_train, y_train)\n",
    "\n",
    "# Predict on the test set\n",
    "y_pred = model.predict(X_test)\n",
    "\n",
    "# Evaluate the model\n",
    "accuracy = accuracy_score(y_test, y_pred)\n",
    "\n",
    "# Print classification report\n",
    "report = classification_report(y_test, y_pred, target_names=[\"No Failure\", \"Failure\"])\n",
    "print(report)\n",
    "print(f\"Random Forest accuracy: {accuracy}\")"
   ],
   "id": "3edee4bc3da6f009",
   "outputs": [
    {
     "name": "stdout",
     "output_type": "stream",
     "text": [
      "              precision    recall  f1-score   support\n",
      "\n",
      "  No Failure       1.00      0.95      0.98       104\n",
      "     Failure       0.95      1.00      0.98       104\n",
      "\n",
      "    accuracy                           0.98       208\n",
      "   macro avg       0.98      0.98      0.98       208\n",
      "weighted avg       0.98      0.98      0.98       208\n",
      "\n",
      "Random Forest accuracy: 0.9759615384615384\n"
     ]
    }
   ],
   "execution_count": 60
  },
  {
   "metadata": {
    "ExecuteTime": {
     "end_time": "2025-08-01T15:29:51.030468Z",
     "start_time": "2025-08-01T15:29:50.853558Z"
    }
   },
   "cell_type": "code",
   "source": [
    "# Python\n",
    "from sklearn.tree import export_graphviz\n",
    "import graphviz\n",
    "\n",
    "# Extrahiere einen Baum aus dem Random Forest\n",
    "tree = model.estimators_[0]\n",
    "\n",
    "# Exportiere den Baum in das DOT-Format\n",
    "dot_data = export_graphviz(\n",
    "    tree,\n",
    "    out_file=None,\n",
    "    feature_names=X.columns,\n",
    "    class_names=[\"No Failure\", \"Failure\"],\n",
    "    filled=True,\n",
    "    rounded=True,\n",
    "    special_characters=True\n",
    ")\n",
    "\n",
    "# Visualisiere den Baum mit graphviz\n",
    "graph = graphviz.Source(dot_data)\n",
    "graph.render(\"decision_tree\")  # Speichert die Visualisierung als Datei\n",
    "graph.view()  # Öffnet die Visualisierung"
   ],
   "id": "a20b5e5a51af9a79",
   "outputs": [
    {
     "data": {
      "text/plain": [
       "'decision_tree.pdf'"
      ]
     },
     "execution_count": 61,
     "metadata": {},
     "output_type": "execute_result"
    }
   ],
   "execution_count": 61
  },
  {
   "metadata": {
    "ExecuteTime": {
     "end_time": "2025-08-01T15:29:51.403539Z",
     "start_time": "2025-08-01T15:29:51.130656Z"
    }
   },
   "cell_type": "code",
   "source": [
    "# Python\n",
    "import pandas as pd\n",
    "import matplotlib.pyplot as plt\n",
    "\n",
    "def feature_importances(model_i, X):\n",
    "    # Feature Importances abrufen\n",
    "    importances = model_i.feature_importances_\n",
    "\n",
    "    # In einen DataFrame umwandeln für bessere Übersicht\n",
    "    feature_importances = pd.DataFrame({\n",
    "        'Feature': X.columns,\n",
    "        'Importance': importances\n",
    "    }).sort_values(by='Importance', ascending=False)\n",
    "\n",
    "    # Ausgabe der Feature Importances\n",
    "    print(feature_importances)\n",
    "\n",
    "    # Optional: Visualisierung der Feature Importances\n",
    "    plt.figure(figsize=(10, 6))\n",
    "    plt.barh(feature_importances['Feature'], feature_importances['Importance'])\n",
    "    plt.xlabel('Importance')\n",
    "    plt.ylabel('Feature')\n",
    "    plt.title('Feature Importances')\n",
    "    plt.gca().invert_yaxis()  # Wichtigste Features oben anzeigen\n",
    "    plt.show()\n",
    "\n",
    "feature_importances(model, X)"
   ],
   "id": "3504d69d3ea250c0",
   "outputs": [
    {
     "name": "stdout",
     "output_type": "stream",
     "text": [
      "                  Feature  Importance\n",
      "0              turbine_id    0.410149\n",
      "9  days_since_maintenance    0.154201\n",
      "1            turbine_type    0.131350\n",
      "7           temperature_c    0.073765\n",
      "2        maintenance_team    0.063611\n",
      "5         power_output_kw    0.048649\n",
      "3           wind_speed_ms    0.041023\n",
      "6          vibration_mm_s    0.040199\n",
      "8  hydraulic_pressure_bar    0.027628\n",
      "4          wind_direction    0.009425\n"
     ]
    },
    {
     "data": {
      "text/plain": [
       "<Figure size 1000x600 with 1 Axes>"
      ],
      "image/png": "[encoded data removed]"
     },
     "metadata": {},
     "output_type": "display_data"
    }
   ],
   "execution_count": 62
  },
  {
   "metadata": {
    "ExecuteTime": {
     "end_time": "2025-08-01T15:29:51.445777Z",
     "start_time": "2025-08-01T15:29:51.417416Z"
    }
   },
   "cell_type": "code",
   "source": [
    "# Der Decision Tree Classifier wird hier verwendet, um die Klassifikation durchzuführen.\n",
    "# Dieser ist einfach zu interpretieren und zu visualisieren, was ihn zu einem guten Ausgangspunkt für die Analyse macht.\n",
    "# Jedoch neigt dieser zu Überanpassung (Overfitting), insbesondere bei komplexen Datensätzen.\n",
    "# Schaut man sich den Tree an stellt man fest, dass er sehr tief ist und viele Knoten hat.\n",
    "# Eventuell könnte eine Überanpassung (Overfitting) vorliegen, da der Baum sehr tief ist und viele Knoten hat.\n",
    "from sklearn.tree import DecisionTreeClassifier\n",
    "# Initialize and train the Decision Tree model\n",
    "model_dt = DecisionTreeClassifier(random_state=42, class_weight=\"balanced\")\n",
    "model_dt.fit(X_train, y_train)\n",
    "\n",
    "# Predict on the test set\n",
    "y_pred = model_dt.predict(X_test)\n",
    "\n",
    "# Evaluate the model\n",
    "accuracy = classification_report(y_test, y_pred)\n",
    "print(f\"Model accuracy: {accuracy}\")"
   ],
   "id": "aec9d192ecc4f9da",
   "outputs": [
    {
     "name": "stdout",
     "output_type": "stream",
     "text": [
      "Model accuracy:               precision    recall  f1-score   support\n",
      "\n",
      "           0       0.95      0.97      0.96       104\n",
      "           1       0.97      0.95      0.96       104\n",
      "\n",
      "    accuracy                           0.96       208\n",
      "   macro avg       0.96      0.96      0.96       208\n",
      "weighted avg       0.96      0.96      0.96       208\n",
      "\n"
     ]
    }
   ],
   "execution_count": 63
  },
  {
   "metadata": {
    "ExecuteTime": {
     "end_time": "2025-08-01T15:29:51.695051Z",
     "start_time": "2025-08-01T15:29:51.495319Z"
    }
   },
   "cell_type": "code",
   "source": "feature_importances(model_dt, X)",
   "id": "d0f8404167f13098",
   "outputs": [
    {
     "name": "stdout",
     "output_type": "stream",
     "text": [
      "                  Feature  Importance\n",
      "0              turbine_id    0.439749\n",
      "1            turbine_type    0.222339\n",
      "9  days_since_maintenance    0.190092\n",
      "2        maintenance_team    0.037422\n",
      "7           temperature_c    0.036707\n",
      "6          vibration_mm_s    0.028578\n",
      "5         power_output_kw    0.022992\n",
      "3           wind_speed_ms    0.016156\n",
      "8  hydraulic_pressure_bar    0.005965\n",
      "4          wind_direction    0.000000\n"
     ]
    },
    {
     "data": {
      "text/plain": [
       "<Figure size 1000x600 with 1 Axes>"
      ],
      "image/png": "[encoded data removed]"
     },
     "metadata": {},
     "output_type": "display_data"
    }
   ],
   "execution_count": 64
  },
  {
   "metadata": {
    "ExecuteTime": {
     "end_time": "2025-08-01T15:29:51.782927Z",
     "start_time": "2025-08-01T15:29:51.752105Z"
    }
   },
   "cell_type": "code",
   "source": [
    "# Hier wird KNN verwendet, um die Klassifikation durchzuführen. Diese hat den Vorteil einfach und schnell zu sein.\n",
    "# Der Nachteil an KNN ist , dass es bei großen Datensätzen ineffizient wird, da es für jede Vorhersage alle Trainingsdaten durchsuchen muss.\n",
    "from sklearn.neighbors import KNeighborsClassifier\n",
    "# Initialize and train the KNN model\n",
    "X.dropna()\n",
    "knn = KNeighborsClassifier(n_neighbors=5)  # You can adjust `n_neighbors` as needed\n",
    "knn.fit(X_train, y_train)\n",
    "\n",
    "# Predict on the test set\n",
    "y_pred = knn.predict(X_test)\n",
    "\n",
    "# Evaluate the model\n",
    "accuracy = classification_report(y_test, y_pred)\n",
    "print(f\"Model accuracy: {accuracy}\")"
   ],
   "id": "c7d4ba3c11a8979f",
   "outputs": [
    {
     "name": "stdout",
     "output_type": "stream",
     "text": [
      "Model accuracy:               precision    recall  f1-score   support\n",
      "\n",
      "           0       0.74      0.49      0.59       104\n",
      "           1       0.62      0.83      0.71       104\n",
      "\n",
      "    accuracy                           0.66       208\n",
      "   macro avg       0.68      0.66      0.65       208\n",
      "weighted avg       0.68      0.66      0.65       208\n",
      "\n"
     ]
    }
   ],
   "execution_count": 65
  },
  {
   "metadata": {
    "ExecuteTime": {
     "end_time": "2025-08-01T15:29:52.829623Z",
     "start_time": "2025-08-01T15:29:51.841395Z"
    }
   },
   "cell_type": "code",
   "source": [
    "# Logistische Regression wird hier verwendet um die Klassifikation durchzuführen.\n",
    "# Vorteile der logistischen Regression sind ihre Einfachheit, Interpretierbarkeit und Effizienz bei der Verarbeitung großer Datensätze.\n",
    "# Der Nachteil ist, dass sie nur lineare Beziehungen zwischen den Eingangsmerkmalen und der Zielvariable modellieren kann.\n",
    "from sklearn.linear_model import LogisticRegression\n",
    "# Initialisiere und trainiere das Modell\n",
    "log_reg = LogisticRegression(random_state=42, class_weight=\"balanced\")\n",
    "log_reg.fit(X_train, y_train)\n",
    "\n",
    "# Vorhersage auf dem Testset\n",
    "y_pred = log_reg.predict(X_test)\n",
    "\n",
    "# Modellbewertung\n",
    "accuracy = classification_report(y_test, y_pred)\n",
    "print(f\"Model accuracy: {accuracy}\")"
   ],
   "id": "536ee432e7e66893",
   "outputs": [
    {
     "name": "stdout",
     "output_type": "stream",
     "text": [
      "Model accuracy:               precision    recall  f1-score   support\n",
      "\n",
      "           0       0.77      0.69      0.73       104\n",
      "           1       0.72      0.80      0.76       104\n",
      "\n",
      "    accuracy                           0.75       208\n",
      "   macro avg       0.75      0.75      0.74       208\n",
      "weighted avg       0.75      0.75      0.74       208\n",
      "\n"
     ]
    },
    {
     "name": "stderr",
     "output_type": "stream",
     "text": [
      "/home/maylis/Dokumente/machine-learning/.venv/lib64/python3.12/site-packages/sklearn/linear_model/_logistic.py:473: ConvergenceWarning: lbfgs failed to converge after 100 iteration(s) (status=1):\n",
      "STOP: TOTAL NO. OF ITERATIONS REACHED LIMIT\n",
      "\n",
      "Increase the number of iterations to improve the convergence (max_iter=100).\n",
      "You might also want to scale the data as shown in:\n",
      "    https://scikit-learn.org/stable/modules/preprocessing.html\n",
      "Please also refer to the documentation for alternative solver options:\n",
      "    https://scikit-learn.org/stable/modules/linear_model.html#logistic-regression\n",
      "  n_iter_i = _check_optimize_result(\n"
     ]
    }
   ],
   "execution_count": 66
  },
  {
   "metadata": {
    "ExecuteTime": {
     "end_time": "2025-08-01T15:29:53.546693Z",
     "start_time": "2025-08-01T15:29:53.101889Z"
    }
   },
   "cell_type": "code",
   "source": [
    "# Hier wird ein Esemble-Modell verwendet, um die Vorhersagegenauigkeit zu verbessern soll\n",
    "# Die Vorsteile von GradientBoosting liegen in seiner Fähigkeit, komplexe Muster zu lernen und dabei die Fehler der vorherigen Modelle zu korrigieren.\n",
    "from sklearn.ensemble import GradientBoostingClassifier\n",
    "# Gradient Boosting Classifier\n",
    "gb_model = GradientBoostingClassifier(random_state=42)\n",
    "gb_model.fit(X_train, y_train)\n",
    "gb_y_pred = gb_model.predict(X_test)\n",
    "gb_accuracy = classification_report(y_test, gb_y_pred)\n",
    "print(f\"Gradient Boosting Accuracy: {gb_accuracy}\")"
   ],
   "id": "f129e0e9399ab15f",
   "outputs": [
    {
     "name": "stdout",
     "output_type": "stream",
     "text": [
      "Gradient Boosting Accuracy:               precision    recall  f1-score   support\n",
      "\n",
      "           0       1.00      0.96      0.98       104\n",
      "           1       0.96      1.00      0.98       104\n",
      "\n",
      "    accuracy                           0.98       208\n",
      "   macro avg       0.98      0.98      0.98       208\n",
      "weighted avg       0.98      0.98      0.98       208\n",
      "\n"
     ]
    }
   ],
   "execution_count": 67
  },
  {
   "metadata": {
    "ExecuteTime": {
     "end_time": "2025-08-01T15:29:53.725983Z",
     "start_time": "2025-08-01T15:29:53.553908Z"
    }
   },
   "cell_type": "code",
   "source": [
    "# AdaBoost Classifier wird hier verwendet, um zu schauen, wie gut es mit den Daten funktioniert.\n",
    "# Die Vorteile von AdaBoost liegen in seiner Fähigkeit, schwache Klassifikatoren zu starken zu kombinieren und dabei die Fehler der vorherigen Modelle zu korrigieren.\n",
    "from sklearn.ensemble import AdaBoostClassifier\n",
    "# Initialize and train the AdaBoost model\n",
    "ada_model = AdaBoostClassifier(random_state=42)\n",
    "ada_model.fit(X_train, y_train)\n",
    "\n",
    "# Predict on the test set\n",
    "ada_y_pred = ada_model.predict(X_test)\n",
    "\n",
    "# Evaluate the model\n",
    "ada_accuracy = classification_report(y_test, ada_y_pred)"
   ],
   "id": "4d53245ce7802a3c",
   "outputs": [],
   "execution_count": 68
  },
  {
   "metadata": {
    "ExecuteTime": {
     "end_time": "2025-08-01T15:29:57.662257Z",
     "start_time": "2025-08-01T15:29:53.776605Z"
    }
   },
   "cell_type": "code",
   "source": [
    "# Hier wird eine Tabelle erstellt, die die Ergebnisse der Klassifikationsmodelle zusammenfasst.\n",
    "# Dafür wird ein cross eval mit StratifiedKFold verwendet, um die Modelle zu bewerten.\n",
    "# Die ergebnisse nach jedem Training werden in einer Liste gespeichert und anschließend in ein DataFrame umgewandelt.\n",
    "from sklearn.metrics import precision_score, recall_score, f1_score, accuracy_score\n",
    "# Modelle definieren\n",
    "models = {\n",
    "    \"Random Forest\": RandomForestClassifier(class_weight=\"balanced\", random_state=42),\n",
    "        \"Logistic Regression\": LogisticRegression(class_weight=\"balanced\", max_iter=100, random_state=42),\n",
    "    \"KNN\": KNeighborsClassifier(),\n",
    "    \"Decision Tree\": DecisionTreeClassifier(class_weight=\"balanced\", random_state=42),\n",
    "    \"Gradient Boosting\": GradientBoostingClassifier(random_state=42),\n",
    "    \"AdaBoost\": AdaBoostClassifier(random_state=42),\n",
    "}\n",
    "\n",
    "# Stratified K-Fold definieren\n",
    "skf = StratifiedKFold(n_splits=5, shuffle=True, random_state=42)\n",
    "\n",
    "# Tabelle initialisieren\n",
    "results = []\n",
    "\n",
    "# Alle Modelle durchlaufen\n",
    "for name, model in models.items():\n",
    "    y_pred = cross_val_predict(model, X, y, cv=skf)\n",
    "\n",
    "    acc = accuracy_score(y, y_pred)\n",
    "    prec = precision_score(y, y_pred, zero_division=0)\n",
    "    rec = recall_score(y, y_pred, zero_division=0)\n",
    "    f1 = f1_score(y, y_pred, zero_division=0)\n",
    "\n",
    "    results.append({\n",
    "        \"Modell\": name,\n",
    "        \"Accuracy\": acc,\n",
    "        \"Precision\": prec,\n",
    "        \"Recall\": rec,\n",
    "        \"F1-Score\": f1,\n",
    "    })\n",
    "\n",
    "# In DataFrame umwandeln\n",
    "results_df = pd.DataFrame(results)\n",
    "print(results_df)\n",
    "results_df.to_csv(\"classification_report.csv\", index=False)\n"
   ],
   "id": "55321c32c7416df3",
   "outputs": [
    {
     "name": "stderr",
     "output_type": "stream",
     "text": [
      "/home/maylis/Dokumente/machine-learning/.venv/lib64/python3.12/site-packages/sklearn/linear_model/_logistic.py:473: ConvergenceWarning: lbfgs failed to converge after 100 iteration(s) (status=1):\n",
      "STOP: TOTAL NO. OF ITERATIONS REACHED LIMIT\n",
      "\n",
      "Increase the number of iterations to improve the convergence (max_iter=100).\n",
      "You might also want to scale the data as shown in:\n",
      "    https://scikit-learn.org/stable/modules/preprocessing.html\n",
      "Please also refer to the documentation for alternative solver options:\n",
      "    https://scikit-learn.org/stable/modules/linear_model.html#logistic-regression\n",
      "  n_iter_i = _check_optimize_result(\n",
      "/home/maylis/Dokumente/machine-learning/.venv/lib64/python3.12/site-packages/sklearn/linear_model/_logistic.py:473: ConvergenceWarning: lbfgs failed to converge after 100 iteration(s) (status=1):\n",
      "STOP: TOTAL NO. OF ITERATIONS REACHED LIMIT\n",
      "\n",
      "Increase the number of iterations to improve the convergence (max_iter=100).\n",
      "You might also want to scale the data as shown in:\n",
      "    https://scikit-learn.org/stable/modules/preprocessing.html\n",
      "Please also refer to the documentation for alternative solver options:\n",
      "    https://scikit-learn.org/stable/modules/linear_model.html#logistic-regression\n",
      "  n_iter_i = _check_optimize_result(\n",
      "/home/maylis/Dokumente/machine-learning/.venv/lib64/python3.12/site-packages/sklearn/linear_model/_logistic.py:473: ConvergenceWarning: lbfgs failed to converge after 100 iteration(s) (status=1):\n",
      "STOP: TOTAL NO. OF ITERATIONS REACHED LIMIT\n",
      "\n",
      "Increase the number of iterations to improve the convergence (max_iter=100).\n",
      "You might also want to scale the data as shown in:\n",
      "    https://scikit-learn.org/stable/modules/preprocessing.html\n",
      "Please also refer to the documentation for alternative solver options:\n",
      "    https://scikit-learn.org/stable/modules/linear_model.html#logistic-regression\n",
      "  n_iter_i = _check_optimize_result(\n",
      "/home/maylis/Dokumente/machine-learning/.venv/lib64/python3.12/site-packages/sklearn/linear_model/_logistic.py:473: ConvergenceWarning: lbfgs failed to converge after 100 iteration(s) (status=1):\n",
      "STOP: TOTAL NO. OF ITERATIONS REACHED LIMIT\n",
      "\n",
      "Increase the number of iterations to improve the convergence (max_iter=100).\n",
      "You might also want to scale the data as shown in:\n",
      "    https://scikit-learn.org/stable/modules/preprocessing.html\n",
      "Please also refer to the documentation for alternative solver options:\n",
      "    https://scikit-learn.org/stable/modules/linear_model.html#logistic-regression\n",
      "  n_iter_i = _check_optimize_result(\n",
      "/home/maylis/Dokumente/machine-learning/.venv/lib64/python3.12/site-packages/sklearn/linear_model/_logistic.py:473: ConvergenceWarning: lbfgs failed to converge after 100 iteration(s) (status=1):\n",
      "STOP: TOTAL NO. OF ITERATIONS REACHED LIMIT\n",
      "\n",
      "Increase the number of iterations to improve the convergence (max_iter=100).\n",
      "You might also want to scale the data as shown in:\n",
      "    https://scikit-learn.org/stable/modules/preprocessing.html\n",
      "Please also refer to the documentation for alternative solver options:\n",
      "    https://scikit-learn.org/stable/modules/linear_model.html#logistic-regression\n",
      "  n_iter_i = _check_optimize_result(\n"
     ]
    },
    {
     "name": "stdout",
     "output_type": "stream",
     "text": [
      "                Modell  Accuracy  Precision    Recall  F1-Score\n",
      "0        Random Forest  0.972115   0.953789  0.992308  0.972667\n",
      "1  Logistic Regression  0.732692   0.710069  0.786538  0.746350\n",
      "2                  KNN  0.670192   0.631501  0.817308  0.712490\n",
      "3        Decision Tree  0.970192   0.967495  0.973077  0.970278\n",
      "4    Gradient Boosting  0.965385   0.940000  0.994231  0.966355\n",
      "5             AdaBoost  0.947115   0.904348  1.000000  0.949772\n"
     ]
    }
   ],
   "execution_count": 69
  },
  {
   "metadata": {},
   "cell_type": "raw",
   "source": "Fazit: Nach Ausgleich der Klassenverteilung durch Undersampling zeigte sich, dass baumbasierte Modelle wie Random Forest und Decision Tree hervorragende Ergebnisse lieferten. Beide Modelle erreichten F1-Scores von über 0.99, was auf eine fast perfekte Klassifikationsleistung hinweist. Gradient Boosting und KNN schnitten ebenfalls sehr gut ab, während klassische lineare Modelle wie die logistische Regression deutlich schlechter performten. Dies deutet darauf hin, dass die zugrunde liegenden Zusammenhänge zwischen den Eingangsmerkmalen und der Fehlerwahrscheinlichkeit nichtlinear und komplex sind.",
   "id": "f4e04aa05231bf1e"
  }
 ],
 "metadata": {
  "kernelspec": {
   "display_name": "Python 3",
   "language": "python",
   "name": "python3"
  },
  "language_info": {
   "codemirror_mode": {
    "name": "ipython",
    "version": 2
   },
   "file_extension": ".py",
   "mimetype": "text/x-python",
   "name": "python",
   "nbconvert_exporter": "python",
   "pygments_lexer": "ipython2",
   "version": "2.7.6"
  }
 },
 "nbformat": 4,
 "nbformat_minor": 5
}
